{
  "nbformat": 4,
  "nbformat_minor": 0,
  "metadata": {
    "colab": {
      "name": "4. Random Search Hyperparameters tuning for DL.ipynb",
      "provenance": [],
      "collapsed_sections": []
    },
    "kernelspec": {
      "name": "python3",
      "display_name": "Python 3"
    },
    "language_info": {
      "name": "python"
    }
  },
  "cells": [
    {
      "cell_type": "code",
      "execution_count": 3,
      "metadata": {
        "colab": {
          "base_uri": "https://localhost:8080/"
        },
        "id": "KNDp3oZ1qfeu",
        "outputId": "496d44e7-eb1d-4612-95ce-99e8713f3926"
      },
      "outputs": [
        {
          "output_type": "stream",
          "name": "stdout",
          "text": [
            "Collecting scikeras\n",
            "  Downloading scikeras-0.6.0-py3-none-any.whl (27 kB)\n",
            "Requirement already satisfied: packaging<22.0,>=0.21 in /usr/local/lib/python3.7/dist-packages (from scikeras) (21.3)\n",
            "Collecting importlib-metadata<4,>=3\n",
            "  Downloading importlib_metadata-3.10.1-py3-none-any.whl (14 kB)\n",
            "Requirement already satisfied: scikit-learn>=1.0.0 in /usr/local/lib/python3.7/dist-packages (from scikeras) (1.0.1)\n",
            "Requirement already satisfied: zipp>=0.5 in /usr/local/lib/python3.7/dist-packages (from importlib-metadata<4,>=3->scikeras) (3.6.0)\n",
            "Requirement already satisfied: typing-extensions>=3.6.4 in /usr/local/lib/python3.7/dist-packages (from importlib-metadata<4,>=3->scikeras) (3.10.0.2)\n",
            "Requirement already satisfied: pyparsing!=3.0.5,>=2.0.2 in /usr/local/lib/python3.7/dist-packages (from packaging<22.0,>=0.21->scikeras) (3.0.6)\n",
            "Requirement already satisfied: scipy>=1.1.0 in /usr/local/lib/python3.7/dist-packages (from scikit-learn>=1.0.0->scikeras) (1.4.1)\n",
            "Requirement already satisfied: threadpoolctl>=2.0.0 in /usr/local/lib/python3.7/dist-packages (from scikit-learn>=1.0.0->scikeras) (3.0.0)\n",
            "Requirement already satisfied: joblib>=0.11 in /usr/local/lib/python3.7/dist-packages (from scikit-learn>=1.0.0->scikeras) (1.1.0)\n",
            "Requirement already satisfied: numpy>=1.14.6 in /usr/local/lib/python3.7/dist-packages (from scikit-learn>=1.0.0->scikeras) (1.19.5)\n",
            "Installing collected packages: importlib-metadata, scikeras\n",
            "  Attempting uninstall: importlib-metadata\n",
            "    Found existing installation: importlib-metadata 4.8.2\n",
            "    Uninstalling importlib-metadata-4.8.2:\n",
            "      Successfully uninstalled importlib-metadata-4.8.2\n",
            "\u001b[31mERROR: pip's dependency resolver does not currently take into account all the packages that are installed. This behaviour is the source of the following dependency conflicts.\n",
            "markdown 3.3.6 requires importlib-metadata>=4.4; python_version < \"3.10\", but you have importlib-metadata 3.10.1 which is incompatible.\u001b[0m\n",
            "Successfully installed importlib-metadata-3.10.1 scikeras-0.6.0\n"
          ]
        }
      ],
      "source": [
        "!pip install scikeras"
      ]
    },
    {
      "cell_type": "markdown",
      "source": [
        "# RandomSearchCV for classification pblm"
      ],
      "metadata": {
        "id": "cuCW36mbw-eT"
      }
    },
    {
      "cell_type": "code",
      "source": [
        "import numpy as np\n",
        "from sklearn.model_selection import RandomizedSearchCV, train_test_split\n",
        "from keras.models import Sequential\n",
        "from keras.layers import Dense, Dropout\n",
        "from scikeras.wrappers import KerasClassifier"
      ],
      "metadata": {
        "id": "B3_OPav3rzhW"
      },
      "execution_count": 2,
      "outputs": []
    },
    {
      "cell_type": "code",
      "source": [
        "def create_model(activation):\n",
        "  model = Sequential()\n",
        "  model.add(Dense(16, input_dim=X_train.shape[1], activation=activation))\n",
        "  model.add(Dense(1, activation='sigmoid'))\n",
        "  model.compile(loss='binary_crossentropy', optimizer='Adam', metrics=['accuracy'])\n",
        "  return model"
      ],
      "metadata": {
        "id": "NCPXVNW6sGxb"
      },
      "execution_count": 3,
      "outputs": []
    },
    {
      "cell_type": "code",
      "source": [
        "df = np.loadtxt('/content/drive/MyDrive/DeepLearning/ANN/pima-indians-diabetes.csv', delimiter=',')\n",
        "X = df[:, 0:8]\n",
        "y = df[:, 8]"
      ],
      "metadata": {
        "id": "BVPQDtgFsogS"
      },
      "execution_count": 5,
      "outputs": []
    },
    {
      "cell_type": "code",
      "source": [
        "X_train, X_test, y_train, y_test = train_test_split(X, y, test_size=0.2, random_state=0)"
      ],
      "metadata": {
        "id": "IuyMDY5nstJ3"
      },
      "execution_count": 6,
      "outputs": []
    },
    {
      "cell_type": "code",
      "source": [
        "model = KerasClassifier(model=create_model, batch_size=10, epochs=10, verbose=0, activation='relu')"
      ],
      "metadata": {
        "id": "WcADoLnGs0Cx"
      },
      "execution_count": 12,
      "outputs": []
    },
    {
      "cell_type": "code",
      "source": [
        "activation = ['relu', 'linear', 'sigmoid']\n",
        "param = dict(activation=activation)\n",
        "\n",
        "random = RandomizedSearchCV(estimator=model, param_distributions=param, cv=3, n_jobs=-1)"
      ],
      "metadata": {
        "id": "ww9IfqmEtDU-"
      },
      "execution_count": 13,
      "outputs": []
    },
    {
      "cell_type": "code",
      "source": [
        "random_result = random.fit(X_train, y_train)"
      ],
      "metadata": {
        "colab": {
          "base_uri": "https://localhost:8080/"
        },
        "id": "Y9JAJgXqt75V",
        "outputId": "c8b8e1fb-041e-4c69-baf2-1c0a81a65bad"
      },
      "execution_count": 14,
      "outputs": [
        {
          "output_type": "stream",
          "name": "stderr",
          "text": [
            "/usr/local/lib/python3.7/dist-packages/sklearn/model_selection/_search.py:296: UserWarning: The total space of parameters 3 is smaller than n_iter=10. Running 3 iterations. For exhaustive searches, use GridSearchCV.\n",
            "  UserWarning,\n"
          ]
        }
      ]
    },
    {
      "cell_type": "code",
      "source": [
        "print(random_result.best_score_, random_result.best_params_)"
      ],
      "metadata": {
        "colab": {
          "base_uri": "https://localhost:8080/"
        },
        "id": "RgVhUGT4uDcP",
        "outputId": "294e9d8c-fec7-479a-8e2a-0bf01004e64c"
      },
      "execution_count": 15,
      "outputs": [
        {
          "output_type": "stream",
          "name": "stdout",
          "text": [
            "0.6611908177905309 {'activation': 'linear'}\n"
          ]
        }
      ]
    },
    {
      "cell_type": "code",
      "source": [
        "pred_y = random.predict(X_test)\n",
        "y_pred = (pred_y > 0.5)"
      ],
      "metadata": {
        "id": "_3GomA8uuriA"
      },
      "execution_count": 16,
      "outputs": []
    },
    {
      "cell_type": "code",
      "source": [
        "from sklearn.metrics import confusion_matrix, accuracy_score\n",
        "cm = confusion_matrix(y_test, y_pred)\n",
        "acc = accuracy_score(y_test, y_pred)"
      ],
      "metadata": {
        "id": "AbxTKgPiu5TH"
      },
      "execution_count": 17,
      "outputs": []
    },
    {
      "cell_type": "code",
      "source": [
        "cm"
      ],
      "metadata": {
        "colab": {
          "base_uri": "https://localhost:8080/"
        },
        "id": "8s4YVnvuvH46",
        "outputId": "fd151787-29f5-4097-ef14-7b7ef0d74b76"
      },
      "execution_count": 18,
      "outputs": [
        {
          "output_type": "execute_result",
          "data": {
            "text/plain": [
              "array([[91, 16],\n",
              "       [39,  8]])"
            ]
          },
          "metadata": {},
          "execution_count": 18
        }
      ]
    },
    {
      "cell_type": "code",
      "source": [
        "acc"
      ],
      "metadata": {
        "colab": {
          "base_uri": "https://localhost:8080/"
        },
        "id": "8ZsW88eTvIoA",
        "outputId": "919b9dea-8f3c-4cd6-cf14-42d0d2e4b0de"
      },
      "execution_count": 19,
      "outputs": [
        {
          "output_type": "execute_result",
          "data": {
            "text/plain": [
              "0.6428571428571429"
            ]
          },
          "metadata": {},
          "execution_count": 19
        }
      ]
    },
    {
      "cell_type": "markdown",
      "source": [
        "# RandomSearchCV for Regression pblm"
      ],
      "metadata": {
        "id": "ufPoM0vkxFci"
      }
    },
    {
      "cell_type": "code",
      "source": [
        "import numpy as np\n",
        "import pandas as pd\n",
        "from sklearn.model_selection import train_test_split, RandomizedSearchCV\n",
        "from keras.models import Sequential\n",
        "from keras.layers import Dense, Dropout\n",
        "from scikeras.wrappers import KerasRegressor"
      ],
      "metadata": {
        "id": "OlLJ4gj7vJnX"
      },
      "execution_count": 20,
      "outputs": []
    },
    {
      "cell_type": "code",
      "source": [
        "def create_model(neurons, kernel_initializer, optimizer='adam', loss='mean_absolute_percentage_error'):\n",
        "  model = Sequential()\n",
        "  model.add(Dense(neurons, input_dim=X_train.shape[1], activation='relu', kernel_initializer=kernel_initializer))\n",
        "  model.add(Dense(1, activation='relu', kernel_initializer=kernel_initializer))\n",
        "  model.compile(loss=loss, optimizer=optimizer, metrics=['mean_squared_error'])\n",
        "  return model"
      ],
      "metadata": {
        "id": "GceoftyMxg8I"
      },
      "execution_count": 21,
      "outputs": []
    },
    {
      "cell_type": "code",
      "source": [
        "from google.colab import drive\n",
        "drive.mount('/content/drive')"
      ],
      "metadata": {
        "colab": {
          "base_uri": "https://localhost:8080/"
        },
        "id": "xbfut4qjki2u",
        "outputId": "02942d9a-869c-481f-b253-b780f0030799"
      },
      "execution_count": 22,
      "outputs": [
        {
          "output_type": "stream",
          "name": "stdout",
          "text": [
            "Drive already mounted at /content/drive; to attempt to forcibly remount, call drive.mount(\"/content/drive\", force_remount=True).\n"
          ]
        }
      ]
    },
    {
      "cell_type": "code",
      "source": [
        "dataset = pd.read_csv('/content/drive/MyDrive/DeepLearning/ANN/Complete_Deep_Learning/Churn_Modelling.csv')\n",
        "X = dataset.iloc[:, 3:-1]\n",
        "y = dataset.iloc[:, -1:]\n",
        "geography = pd.get_dummies(X['Geography'], drop_first=True)\n",
        "gender = pd.get_dummies(X['Gender'], drop_first=True)\n",
        "X = pd.concat([X, geography, gender], axis=1)\n",
        "X = X.drop(['Geography', 'Gender'], axis=1)"
      ],
      "metadata": {
        "id": "UgJcEBfAyeGv"
      },
      "execution_count": 23,
      "outputs": []
    },
    {
      "cell_type": "code",
      "source": [
        "X_train, X_test, y_train, y_test = train_test_split(X, y, test_size=0.2, random_state=0)"
      ],
      "metadata": {
        "id": "VWIvAc48yh8U"
      },
      "execution_count": 24,
      "outputs": []
    },
    {
      "cell_type": "code",
      "source": [
        "model = KerasRegressor(model=create_model, batch_size=10, epochs=100, verbose=0, neurons=10, kernel_initializer='uniform')"
      ],
      "metadata": {
        "id": "h8qFfM8XykJN"
      },
      "execution_count": 25,
      "outputs": []
    },
    {
      "cell_type": "code",
      "source": [
        "neurons = [10, 20, 30, 40, 50, 60, 100]\n",
        "#activation = ['softmax', 'softplus', 'softsign', 'relu', 'tanh', 'sigmoid', 'hard_sigmoid', 'linear']\n",
        "kernel_initializer = ['uniform', 'lecun_uniform', 'normal', 'zero', 'glorot_normal', 'glorot_uniform', 'he_normal', 'he_uniform']\n",
        "loss = ['mean_squared_error', 'mean_absolute_error', 'mean_absolute_percentage_error', 'mean_squared_logarithmic_error', 'cosine_similarity']\n",
        "optimizer = ['SGD', 'RMSprop', 'Adagrad', 'Adadelta', 'Adam', 'Adamax', 'Nadam']\n",
        "#metrics = ['mean_squared_error', 'root_mean_squared_error', 'mean_absolute_error', 'mean_absolute_percentage_error', 'mean_squared_logarithmic_error']\n",
        "\n",
        "param = dict(neurons=neurons, kernel_initializer=kernel_initializer, optimizer=optimizer, loss=loss)\n",
        "\n",
        "random = RandomizedSearchCV(estimator=model, param_distributions=param, cv=3, n_jobs=-1)"
      ],
      "metadata": {
        "id": "QHF2rQKnyzBs"
      },
      "execution_count": 26,
      "outputs": []
    },
    {
      "cell_type": "code",
      "source": [
        "random_result = random.fit(X_train, y_train)"
      ],
      "metadata": {
        "colab": {
          "base_uri": "https://localhost:8080/"
        },
        "id": "oil0oUYb0j5-",
        "outputId": "8570038e-4596-4c12-83e1-e53cc82e6441"
      },
      "execution_count": 27,
      "outputs": [
        {
          "output_type": "stream",
          "name": "stderr",
          "text": [
            "/usr/local/lib/python3.7/dist-packages/sklearn/model_selection/_validation.py:372: FitFailedWarning: \n",
            "15 fits failed out of a total of 30.\n",
            "The score on these train-test partitions for these parameters will be set to nan.\n",
            "If these failures are not expected, you can try to debug them by setting error_score='raise'.\n",
            "\n",
            "Below are more details about the failures:\n",
            "--------------------------------------------------------------------------------\n",
            "3 fits failed with the following error:\n",
            "Traceback (most recent call last):\n",
            "  File \"/usr/local/lib/python3.7/dist-packages/sklearn/model_selection/_validation.py\", line 681, in _fit_and_score\n",
            "    estimator.fit(X_train, y_train, **fit_params)\n",
            "  File \"/usr/local/lib/python3.7/dist-packages/scikeras/wrappers.py\", line 726, in fit\n",
            "    X=X, y=y, sample_weight=sample_weight, warm_start=self.warm_start, **kwargs,\n",
            "  File \"/usr/local/lib/python3.7/dist-packages/scikeras/wrappers.py\", line 888, in _fit\n",
            "    self._check_model_compatibility(y)\n",
            "  File \"/usr/local/lib/python3.7/dist-packages/scikeras/wrappers.py\", line 549, in _check_model_compatibility\n",
            "    f\"loss={self.loss} but model compiled with {self.model_.loss}.\"\n",
            "ValueError: loss=cosine_similarity but model compiled with mean_absolute_percentage_error. Data may not match loss function!\n",
            "\n",
            "--------------------------------------------------------------------------------\n",
            "6 fits failed with the following error:\n",
            "Traceback (most recent call last):\n",
            "  File \"/usr/local/lib/python3.7/dist-packages/sklearn/model_selection/_validation.py\", line 681, in _fit_and_score\n",
            "    estimator.fit(X_train, y_train, **fit_params)\n",
            "  File \"/usr/local/lib/python3.7/dist-packages/scikeras/wrappers.py\", line 726, in fit\n",
            "    X=X, y=y, sample_weight=sample_weight, warm_start=self.warm_start, **kwargs,\n",
            "  File \"/usr/local/lib/python3.7/dist-packages/scikeras/wrappers.py\", line 888, in _fit\n",
            "    self._check_model_compatibility(y)\n",
            "  File \"/usr/local/lib/python3.7/dist-packages/scikeras/wrappers.py\", line 549, in _check_model_compatibility\n",
            "    f\"loss={self.loss} but model compiled with {self.model_.loss}.\"\n",
            "ValueError: loss=mean_absolute_error but model compiled with mean_absolute_percentage_error. Data may not match loss function!\n",
            "\n",
            "--------------------------------------------------------------------------------\n",
            "6 fits failed with the following error:\n",
            "Traceback (most recent call last):\n",
            "  File \"/usr/local/lib/python3.7/dist-packages/sklearn/model_selection/_validation.py\", line 681, in _fit_and_score\n",
            "    estimator.fit(X_train, y_train, **fit_params)\n",
            "  File \"/usr/local/lib/python3.7/dist-packages/scikeras/wrappers.py\", line 726, in fit\n",
            "    X=X, y=y, sample_weight=sample_weight, warm_start=self.warm_start, **kwargs,\n",
            "  File \"/usr/local/lib/python3.7/dist-packages/scikeras/wrappers.py\", line 888, in _fit\n",
            "    self._check_model_compatibility(y)\n",
            "  File \"/usr/local/lib/python3.7/dist-packages/scikeras/wrappers.py\", line 549, in _check_model_compatibility\n",
            "    f\"loss={self.loss} but model compiled with {self.model_.loss}.\"\n",
            "ValueError: loss=mean_squared_logarithmic_error but model compiled with mean_absolute_percentage_error. Data may not match loss function!\n",
            "\n",
            "  warnings.warn(some_fits_failed_message, FitFailedWarning)\n",
            "/usr/local/lib/python3.7/dist-packages/sklearn/model_selection/_search.py:972: UserWarning: One or more of the test scores are non-finite: [        nan -0.25630892         nan -0.25630892         nan -0.25630892\n",
            " -0.25630892         nan -0.25630892         nan]\n",
            "  category=UserWarning,\n"
          ]
        }
      ]
    },
    {
      "cell_type": "code",
      "source": [
        "print(random_result.best_params_, random_result.best_score_)"
      ],
      "metadata": {
        "colab": {
          "base_uri": "https://localhost:8080/"
        },
        "id": "X1bdFn7I1-oT",
        "outputId": "5516cab9-c7b3-4540-a0c0-008905572620"
      },
      "execution_count": 28,
      "outputs": [
        {
          "output_type": "stream",
          "name": "stdout",
          "text": [
            "{'optimizer': 'Adam', 'neurons': 10, 'loss': 'mean_absolute_percentage_error', 'kernel_initializer': 'normal'} -0.2563089221127963\n"
          ]
        }
      ]
    },
    {
      "cell_type": "code",
      "source": [
        "y_pred = random.predict(X_test)"
      ],
      "metadata": {
        "id": "gJMBPvl0PuBA"
      },
      "execution_count": 29,
      "outputs": []
    },
    {
      "cell_type": "code",
      "source": [
        "from sklearn.metrics import accuracy_score\n",
        "accuracy_score(y_test, y_pred)"
      ],
      "metadata": {
        "colab": {
          "base_uri": "https://localhost:8080/"
        },
        "id": "cs0-8zjxP3_9",
        "outputId": "a8320da1-ebda-43d3-ec96-06e6cad938a6"
      },
      "execution_count": 31,
      "outputs": [
        {
          "output_type": "execute_result",
          "data": {
            "text/plain": [
              "0.7975"
            ]
          },
          "metadata": {},
          "execution_count": 31
        }
      ]
    },
    {
      "cell_type": "code",
      "source": [
        ""
      ],
      "metadata": {
        "id": "1COD9vjMP8yG"
      },
      "execution_count": null,
      "outputs": []
    }
  ]
}